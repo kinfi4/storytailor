{
 "cells": [
  {
   "cell_type": "code",
   "execution_count": 52,
   "id": "d5693e01",
   "metadata": {},
   "outputs": [],
   "source": [
    "import os\n",
    "import json\n",
    "import time\n",
    "from pathlib import Path\n",
    "from typing import Any, Dict, Optional\n",
    "\n",
    "from dotenv import load_dotenv\n",
    "from langchain_aws import ChatBedrockConverse\n",
    "\n",
    "# Load environment\n",
    "load_dotenv(\"../.env\")\n",
    "\n",
    "MODEL_ID = \"us.anthropic.claude-sonnet-4-20250514-v1:0\"\n",
    "llm = ChatBedrockConverse(\n",
    "    model_id=MODEL_ID,\n",
    "    region_name=os.getenv(\"AWS_BEDROCK_REGION\"),\n",
    "    aws_access_key_id=os.getenv(\"AWS_BEDROCK_ACCESS_KEY_ID\"),\n",
    "    aws_secret_access_key=os.getenv(\"AWS_BEDROCK_SECRET_ACCESS_KEY\"),\n",
    ")"
   ]
  },
  {
   "cell_type": "code",
   "execution_count": 53,
   "id": "0c4674ac",
   "metadata": {},
   "outputs": [],
   "source": [
    "def read_bytes(path: Path) -> bytes:\n",
    "    return path.read_bytes()\n",
    "\n",
    "\n",
    "def image_format_from_path(path: Path) -> str:\n",
    "    s = path.suffix.lower()\n",
    "    return \"png\" if s == \".png\" else \"jpeg\"\n"
   ]
  },
  {
   "cell_type": "code",
   "execution_count": 54,
   "id": "db52a1df",
   "metadata": {},
   "outputs": [
    {
     "data": {
      "text/plain": [
       "(21, 21)"
      ]
     },
     "execution_count": 54,
     "metadata": {},
     "output_type": "execute_result"
    }
   ],
   "source": [
    "# Load dataset files\n",
    "REQUESTS_PATH = Path(\"data/image-generation-requests.json\")\n",
    "PREDICTIONS_PATH = Path(\"data/predictions.json\")\n",
    "\n",
    "requests_data = json.loads(REQUESTS_PATH.read_text(encoding=\"utf-8\")) if REQUESTS_PATH.exists() else []\n",
    "predictions_data = json.loads(PREDICTIONS_PATH.read_text(encoding=\"utf-8\")) if PREDICTIONS_PATH.exists() else {}\n",
    "\n",
    "len(requests_data), len(predictions_data)"
   ]
  },
  {
   "cell_type": "code",
   "execution_count": 55,
   "id": "1dd90fe5",
   "metadata": {},
   "outputs": [
    {
     "data": {
      "text/plain": [
       "(21, ['1', '10', '11', '12', '13'])"
      ]
     },
     "execution_count": 55,
     "metadata": {},
     "output_type": "execute_result"
    }
   ],
   "source": [
    "# Build index of requests by image id (derived from filename stem)\n",
    "requests_by_id = {}\n",
    "for rec in requests_data:\n",
    "    p = Path(rec[\"imagePath\"]).name\n",
    "    stem = Path(p).stem  # e.g., \"1\" or \"20\"\n",
    "    requests_by_id[stem] = rec\n",
    "\n",
    "# Helper to get elder/other prediction for an id (if exists)\n",
    "preds_by_id = {k: v for k, v in predictions_data.items()}\n",
    "\n",
    "len(requests_by_id), list(requests_by_id.keys())[:5]\n"
   ]
  },
  {
   "cell_type": "code",
   "execution_count": 56,
   "id": "1838d2d9",
   "metadata": {},
   "outputs": [],
   "source": [
    "# Structured outputs with Pydantic + parallel judges (1–5 integer ratings)\n",
    "from pydantic import BaseModel, Field\n",
    "from concurrent.futures import ThreadPoolExecutor\n",
    "\n",
    "class GroundednessEval(BaseModel):\n",
    "    grounded_to_image: int = Field(..., ge=1, le=5, description=\"Grounding to IMAGE (1=poor, 5=excellent)\")\n",
    "    grounded_to_context: int = Field(..., ge=1, le=5, description=\"Grounding to ADDITIONAL_CONTEXT user instructions (1=poor, 5=excellent)\")\n",
    "    explanation: str = Field(..., description=\"One-sentence evidence-based explanation\")\n",
    "\n",
    "class QualityEval(BaseModel):\n",
    "    coherence: int = Field(..., ge=1, le=5, description=\"Narrative logic and consistency (1=poor, 5=excellent)\")\n",
    "    readability: int = Field(..., ge=1, le=5, description=\"Clarity and flow (1=poor, 5=excellent)\")\n",
    "    justification: str = Field(..., description=\"One-sentence justification\")\n",
    "\n",
    "# Structured-output judges\n",
    "g_judge = llm.with_structured_output(GroundednessEval)\n",
    "q_judge = llm.with_structured_output(QualityEval)\n",
    "\n",
    "# Concise prompts\n",
    "# Note: additional_context are user instructions intended to guide story generation.\n",
    "def groundedness_messages(image_path: Path, additional_context: str, story_text: str):\n",
    "    fmt = image_format_from_path(image_path)\n",
    "    img_bytes = read_bytes(image_path)\n",
    "    system = (\n",
    "        \"You are an evaluator. Assess how well the STORY is grounded in: (1) the IMAGE, \"\n",
    "        \"and (2) the user's instructions used for story generation.\"\n",
    "    )\n",
    "    user = (\n",
    "        \"Return integer ratings 1–5 for grounded_to_image and grounded_to_context, plus a brief explanation.\"\n",
    "    )\n",
    "    story = f\"STORY:\\n{story_text}\"\n",
    "    ctx = f\"(user instructions):\\n{additional_context}\"\n",
    "    return [\n",
    "        {\"role\": \"system\", \"content\": [{\"text\": system}]},\n",
    "        {\n",
    "            \"role\": \"user\",\n",
    "            \"content\": [\n",
    "                {\"text\": user},\n",
    "                {\"image\": {\"format\": fmt, \"source\": {\"bytes\": img_bytes}}},\n",
    "                {\"text\": ctx},\n",
    "                {\"text\": story},\n",
    "            ],\n",
    "        },\n",
    "    ]\n",
    "\n",
    "\n",
    "def quality_messages(story_text: str):\n",
    "    system = (\n",
    "        \"You are an evaluator. Assess the STORY for (1) coherence and (2) readability.\"\n",
    "    )\n",
    "    user = \"Return integer ratings 1–5 for coherence and readability, plus a brief justification.\"\n",
    "    story = f\"STORY:\\n{story_text}\"\n",
    "    return [\n",
    "        {\"role\": \"system\", \"content\": [{\"text\": system}]},\n",
    "        {\"role\": \"user\", \"content\": [{\"text\": user}, {\"text\": story}]},\n",
    "    ]\n",
    "\n",
    "\n",
    "def run_groundedness(image_path: Path, additional_context: str, story_text: str):\n",
    "    return g_judge.invoke(groundedness_messages(image_path, additional_context, story_text)).model_dump()\n",
    "\n",
    "\n",
    "def run_quality(story_text: str):\n",
    "    return q_judge.invoke(quality_messages(story_text)).model_dump()\n"
   ]
  },
  {
   "cell_type": "code",
   "execution_count": 57,
   "id": "0c9c2520",
   "metadata": {},
   "outputs": [
    {
     "name": "stderr",
     "output_type": "stream",
     "text": [
      "100%|██████████| 21/21 [00:34<00:00,  1.62s/it]\n"
     ]
    },
    {
     "data": {
      "text/plain": [
       "21"
      ]
     },
     "execution_count": 57,
     "metadata": {},
     "output_type": "execute_result"
    }
   ],
   "source": [
    "# Run evaluations over items (one thread per record) with progress\n",
    "from concurrent.futures import ThreadPoolExecutor, as_completed\n",
    "from tqdm import tqdm\n",
    "\n",
    "\n",
    "def evaluate_one(image_id: str, req: dict):\n",
    "    req_ctx = req[\"request\"].get(\"additionalContext\", \"\")\n",
    "    image_path = Path(req[\"imagePath\"]) if Path(req[\"imagePath\"]).exists() else Path(\"./\") / req[\"imagePath\"]\n",
    "\n",
    "    pred = preds_by_id.get(image_id)\n",
    "    story_text = None\n",
    "    if pred and isinstance(pred, dict):\n",
    "        story_text = (\n",
    "            pred.get(\"story\")\n",
    "            or pred.get(\"output\")\n",
    "            or pred.get(\"text\")\n",
    "            or pred.get(\"elder_check\", {}).get(\"summary\")\n",
    "        )\n",
    "    if not story_text:\n",
    "        return None\n",
    "\n",
    "    grounded = run_groundedness(image_path, req_ctx, story_text)\n",
    "    quality = run_quality(story_text)\n",
    "\n",
    "    return {\n",
    "        \"image_id\": image_id,\n",
    "        \"image_path\": str(image_path),\n",
    "        \"additionalContext\": req_ctx,\n",
    "        \"story_word_count\": len((story_text or \"\").split()),\n",
    "        \"grounded\": grounded,\n",
    "        \"quality\": quality,\n",
    "    }\n",
    "\n",
    "\n",
    "results = []\n",
    "with ThreadPoolExecutor(max_workers=20) as pool:\n",
    "    futures = [pool.submit(evaluate_one, image_id, req) for image_id, req in requests_by_id.items()]\n",
    "    for fut in tqdm(as_completed(futures), total=len(futures)):\n",
    "        r = fut.result()\n",
    "        if r:\n",
    "            results.append(r)\n",
    "\n",
    "len(results)\n"
   ]
  },
  {
   "cell_type": "code",
   "execution_count": 58,
   "id": "1ee179fc",
   "metadata": {},
   "outputs": [
    {
     "name": "stdout",
     "output_type": "stream",
     "text": [
      "Evaluation Results Summary\n",
      "==============================\n",
      "Number of results: 21\n",
      "Word count:\n",
      "  Min:    270\n",
      "  Max:    547\n",
      "  Mean:   419.29\n",
      "  Median: 422.00\n",
      "\n",
      "Coherence mean:          3.81\n",
      "Readability mean:        4.14\n",
      "Grounded to image mean:  3.86\n",
      "Grounded to context mean:4.14\n"
     ]
    }
   ],
   "source": [
    "# Save and aggregate metrics\n",
    "OUT_PATH = Path(\"data/evaluation-results.json\")\n",
    "\n",
    "if results:\n",
    "    OUT_PATH.write_text(json.dumps(results, ensure_ascii=False, indent=2), encoding=\"utf-8\")\n",
    "\n",
    "# Simple aggregates\n",
    "import statistics as stats\n",
    "\n",
    "wc = [r[\"story_word_count\"] for r in results]\n",
    "coh = [r.get(\"quality\", {}).get(\"coherence\", None) for r in results]\n",
    "read = [r.get(\"quality\", {}).get(\"readability\", None) for r in results]\n",
    "img_g = [r.get(\"grounded\", {}).get(\"grounded_to_image\", None) for r in results]\n",
    "ctx_g = [r.get(\"grounded\", {}).get(\"grounded_to_context\", None) for r in results]\n",
    "\n",
    "# Filter Nones\n",
    "coh = [x for x in coh if isinstance(x, (int, float))]\n",
    "read = [x for x in read if isinstance(x, (int, float))]\n",
    "img_g = [x for x in img_g if isinstance(x, (int, float))]\n",
    "ctx_g = [x for x in ctx_g if isinstance(x, (int, float))]\n",
    "\n",
    "aggregates = {\n",
    "    \"num_results\": len(results),\n",
    "    \"word_count\": {\n",
    "        \"min\": min(wc) if wc else None,\n",
    "        \"max\": max(wc) if wc else None,\n",
    "        \"mean\": float(stats.mean(wc)) if wc else None,\n",
    "        \"median\": float(stats.median(wc)) if wc else None,\n",
    "    },\n",
    "    \"coherence_mean\": float(stats.mean(coh)) if coh else None,\n",
    "    \"readability_mean\": float(stats.mean(read)) if read else None,\n",
    "    \"grounded_image_mean\": float(stats.mean(img_g)) if img_g else None,\n",
    "    \"grounded_context_mean\": float(stats.mean(ctx_g)) if ctx_g else None,\n",
    "}\n",
    "\n",
    "print(\"Evaluation Results Summary\")\n",
    "print(\"=\" * 30)\n",
    "print(f\"Number of results: {aggregates['num_results']}\")\n",
    "print(\"Word count:\")\n",
    "print(f\"  Min:    {aggregates['word_count']['min']}\")\n",
    "print(f\"  Max:    {aggregates['word_count']['max']}\")\n",
    "print(f\"  Mean:   {aggregates['word_count']['mean']:.2f}\")\n",
    "print(f\"  Median: {aggregates['word_count']['median']:.2f}\")\n",
    "print()\n",
    "print(f\"Coherence mean:          {aggregates['coherence_mean']:.2f}\")\n",
    "print(f\"Readability mean:        {aggregates['readability_mean']:.2f}\")\n",
    "print(f\"Grounded to image mean:  {aggregates['grounded_image_mean']:.2f}\")\n",
    "print(f\"Grounded to context mean:{aggregates['grounded_context_mean']:.2f}\")\n",
    "\n"
   ]
  },
  {
   "cell_type": "code",
   "execution_count": 59,
   "id": "8c1b799f",
   "metadata": {},
   "outputs": [
    {
     "data": {
      "image/png": "[encoded data removed]",
      "text/plain": [
       "<Figure size 1000x800 with 4 Axes>"
      ]
     },
     "metadata": {},
     "output_type": "display_data"
    },
    {
     "data": {
      "image/png": "[encoded data removed]",
      "text/plain": [
       "<Figure size 800x400 with 1 Axes>"
      ]
     },
     "metadata": {},
     "output_type": "display_data"
    }
   ],
   "source": [
    "# Visualizations: distributions and simple means (no flavor)\n",
    "import matplotlib.pyplot as plt\n",
    "import numpy as np\n",
    "\n",
    "# Collect score arrays\n",
    "gi = [r.get(\"grounded\", {}).get(\"grounded_to_image\") for r in results]\n",
    "gc = [r.get(\"grounded\", {}).get(\"grounded_to_context\") for r in results]\n",
    "co = [r.get(\"quality\", {}).get(\"coherence\") for r in results]\n",
    "rd = [r.get(\"quality\", {}).get(\"readability\") for r in results]\n",
    "wc = [r.get(\"story_word_count\", 0) for r in results]\n",
    "\n",
    "# Filter out None\n",
    "gi = [x for x in gi if isinstance(x, (int, float))]\n",
    "gc = [x for x in gc if isinstance(x, (int, float))]\n",
    "co = [x for x in co if isinstance(x, (int, float))]\n",
    "rd = [x for x in rd if isinstance(x, (int, float))]\n",
    "\n",
    "# Histograms (1–5 scores; word count separate)\n",
    "bins_1_5 = np.arange(0.5, 6, 1)\n",
    "fig, axes = plt.subplots(2, 2, figsize=(10, 8))\n",
    "axes = axes.ravel()\n",
    "\n",
    "axes[0].hist(gi, bins=bins_1_5, color=\"#4e79a7\", edgecolor=\"white\")\n",
    "axes[0].set_title(\"Grounded to Image (1–5)\")\n",
    "axes[0].set_xticks([1, 2, 3, 4, 5])\n",
    "\n",
    "axes[1].hist(gc, bins=bins_1_5, color=\"#59a14f\", edgecolor=\"white\")\n",
    "axes[1].set_title(\"Grounded to Context (1–5)\")\n",
    "axes[1].set_xticks([1, 2, 3, 4, 5])\n",
    "\n",
    "axes[2].hist(co, bins=bins_1_5, color=\"#f28e2b\", edgecolor=\"white\")\n",
    "axes[2].set_title(\"Coherence (1–5)\")\n",
    "axes[2].set_xticks([1, 2, 3, 4, 5])\n",
    "\n",
    "axes[3].hist(rd, bins=bins_1_5, color=\"#e15759\", edgecolor=\"white\")\n",
    "axes[3].set_title(\"Readability (1–5)\")\n",
    "axes[3].set_xticks([1, 2, 3, 4, 5])\n",
    "\n",
    "plt.tight_layout()\n",
    "plt.show()\n",
    "\n",
    "# Word count histogram\n",
    "plt.figure(figsize=(8, 4))\n",
    "plt.hist(wc, bins=10, color=\"#76b7b2\", edgecolor=\"white\")\n",
    "plt.title(\"Story Word Count\")\n",
    "plt.tight_layout()\n",
    "plt.show()\n"
   ]
  },
  {
   "cell_type": "code",
   "execution_count": null,
   "id": "1e0a01cf",
   "metadata": {},
   "outputs": [],
   "source": []
  },
  {
   "cell_type": "code",
   "execution_count": null,
   "id": "9c809a7a",
   "metadata": {},
   "outputs": [],
   "source": []
  }
 ],
 "metadata": {
  "kernelspec": {
   "display_name": "storytailer",
   "language": "python",
   "name": "python3"
  },
  "language_info": {
   "codemirror_mode": {
    "name": "ipython",
    "version": 3
   },
   "file_extension": ".py",
   "mimetype": "text/x-python",
   "name": "python",
   "nbconvert_exporter": "python",
   "pygments_lexer": "ipython3",
   "version": "3.12.3"
  }
 },
 "nbformat": 4,
 "nbformat_minor": 5
}
