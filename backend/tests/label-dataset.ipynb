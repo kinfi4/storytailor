{
 "cells": [
  {
   "cell_type": "code",
   "execution_count": 3,
   "id": "9e8d64ca",
   "metadata": {},
   "outputs": [
    {
     "data": {
      "text/plain": [
       "True"
      ]
     },
     "execution_count": 3,
     "metadata": {},
     "output_type": "execute_result"
    }
   ],
   "source": [
    "import os\n",
    "\n",
    "from dotenv import load_dotenv\n",
    "\n",
    "load_dotenv(\"../.env\")"
   ]
  },
  {
   "cell_type": "code",
   "execution_count": 4,
   "id": "827824d4",
   "metadata": {},
   "outputs": [],
   "source": [
    "from langchain_aws import ChatBedrockConverse\n",
    "\n",
    "llm = ChatBedrockConverse(\n",
    "    model_id=\"us.anthropic.claude-sonnet-4-20250514-v1:0\",\n",
    "    region_name=os.getenv(\"AWS_BEDROCK_REGION\"),\n",
    "    aws_access_key_id=os.getenv(\"AWS_BEDROCK_ACCESS_KEY_ID\"),\n",
    "    aws_secret_access_key=os.getenv(\"AWS_BEDROCK_SECRET_ACCESS_KEY\"),\n",
    ")"
   ]
  },
  {
   "cell_type": "code",
   "execution_count": 5,
   "id": "37c9686d",
   "metadata": {},
   "outputs": [],
   "source": [
    "def retry(times: int = 3):\n",
    "    def wrap(fn):\n",
    "        def inner(*args, **kwargs):\n",
    "            for i in range(times):\n",
    "                try:\n",
    "                    return fn(*args, **kwargs)\n",
    "                except Exception:\n",
    "                    if i == times - 1:\n",
    "                        raise\n",
    "        return inner\n",
    "    return wrap"
   ]
  },
  {
   "cell_type": "code",
   "execution_count": 8,
   "id": "bcdfba6c",
   "metadata": {},
   "outputs": [
    {
     "name": "stdout",
     "output_type": "stream",
     "text": [
      "Wrote 21 records to data/image-generation-requests.json\n"
     ]
    }
   ],
   "source": [
    "from pathlib import Path\n",
    "import json\n",
    "import random\n",
    "from concurrent.futures import ThreadPoolExecutor\n",
    "\n",
    "# tiny retry decorator\n",
    "\n",
    "images_dir = Path(\"data/images\")\n",
    "out_path = Path(\"data/image-generation-requests.json\")\n",
    "flavors = [\"fairy_tale\", \"thriller\", \"romance\", \"science_fiction\"]\n",
    "\n",
    "@retry(3)\n",
    "def make_record(idx: int, p: Path):\n",
    "    b = p.read_bytes()\n",
    "    fmt = \"png\" if p.suffix.lower() == \".png\" else \"jpeg\"\n",
    "    system = (\n",
    "        \"You write ultra-short, concrete instructions for a future story. \"\n",
    "        \"One sentence, <= 15 words, imperative, grounded in the image.\"\n",
    "    )\n",
    "    user = (\n",
    "        \"From this image, produce a concise instruction to guide a short story later. \"\n",
    "        \"Focus on visible elements and mood.\"\n",
    "    )\n",
    "    messages = [\n",
    "        {\"role\": \"system\", \"content\": [{\"text\": system}]},\n",
    "        {\n",
    "            \"role\": \"user\",\n",
    "            \"content\": [\n",
    "                {\"text\": user},\n",
    "                {\"image\": {\"format\": fmt, \"source\": {\"bytes\": b}}},\n",
    "            ],\n",
    "        },\n",
    "    ]\n",
    "    resp = llm.invoke(messages)\n",
    "    ctx = str(getattr(resp, \"content\", \"\")).strip()\n",
    "    return {\n",
    "        \"imagePath\": str(p),\n",
    "        \"request\": {\n",
    "            \"flavor\": flavors[idx % len(flavors)],\n",
    "            \"additionalContext\": ctx,\n",
    "            \"eightingPlusEnabled\": random.random() < 0.3,\n",
    "        },\n",
    "    }\n",
    "\n",
    "images = sorted(images_dir.glob(\"*\"))\n",
    "with ThreadPoolExecutor(max_workers=20) as pool:\n",
    "    futures = [pool.submit(make_record, i, p) for i, p in enumerate(images)]\n",
    "    records = [f.result() for f in futures]\n",
    "\n",
    "out_path.write_text(json.dumps(records, ensure_ascii=False, indent=2), encoding=\"utf-8\")\n",
    "print(f\"Wrote {len(records)} records to {out_path}\")"
   ]
  },
  {
   "cell_type": "markdown",
   "id": "2044aab3",
   "metadata": {},
   "source": []
  }
 ],
 "metadata": {
  "kernelspec": {
   "display_name": "storytailer",
   "language": "python",
   "name": "python3"
  },
  "language_info": {
   "codemirror_mode": {
    "name": "ipython",
    "version": 3
   },
   "file_extension": ".py",
   "mimetype": "text/x-python",
   "name": "python",
   "nbconvert_exporter": "python",
   "pygments_lexer": "ipython3",
   "version": "3.12.3"
  }
 },
 "nbformat": 4,
 "nbformat_minor": 5
}
